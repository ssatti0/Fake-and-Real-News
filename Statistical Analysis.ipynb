{
 "cells": [
  {
   "cell_type": "code",
   "execution_count": 1,
   "metadata": {},
   "outputs": [],
   "source": [
    "import pandas as pd\n",
    "import numpy as np\n",
    "import matplotlib.pyplot as plt\n",
    "import seaborn as sns\n",
    "%matplotlib inline\n",
    "\n",
    "from scipy.stats import pearsonr\n",
    "from scipy.stats import ttest_ind"
   ]
  },
  {
   "cell_type": "markdown",
   "metadata": {},
   "source": [
    "### Summary:\n",
    "This section  goes through some basic statistics, with a focus on the title_length feature. the text_length feature has overlappig distributions, for the two datasets, and is not as useful in distinguishing fake and real news.<br>\n",
    "\n",
    "**Hypothesis Test**:<br>\n",
    "> H0: There is no difference in the title_length between fake and real news.<br>\n",
    "> H1: Title_lengths are different in fake and real news.<br>\n",
    "\n",
    "+ There is a negative correlation between label and title_length. This is the highest correlation, among all features in the correlation matrix.\n",
    "+ The whole dataset has a title_length with a mean of 76.71, and standard deviation of 22.18. Fake data has a mean of 91.19 and Real data a mean of 64.67.\n",
    "+ The datasets are not perfectly normal, but are assumed to be.\n",
    "+ The fake and real datasets are idependent (pearson correlation coefficient of 0.0063).\n",
    "+ T-test yields a 0 p-value, therefore the null hypothesis is rejected. It is possible to use the title_length to predict fake and real data. This can be tried independentily or as part of an engineered feature.\n",
    "\n",
    "\n"
   ]
  },
  {
   "cell_type": "markdown",
   "metadata": {},
   "source": [
    "### Load Data:"
   ]
  },
  {
   "cell_type": "code",
   "execution_count": 2,
   "metadata": {},
   "outputs": [],
   "source": [
    "All2 = pd.read_csv('allnews_extra_title_clean.csv')\n",
    "All2.drop('Unnamed: 0', axis=1, inplace=True)"
   ]
  },
  {
   "cell_type": "code",
   "execution_count": 3,
   "metadata": {},
   "outputs": [
    {
     "data": {
      "text/html": [
       "<div>\n",
       "<style scoped>\n",
       "    .dataframe tbody tr th:only-of-type {\n",
       "        vertical-align: middle;\n",
       "    }\n",
       "\n",
       "    .dataframe tbody tr th {\n",
       "        vertical-align: top;\n",
       "    }\n",
       "\n",
       "    .dataframe thead th {\n",
       "        text-align: right;\n",
       "    }\n",
       "</style>\n",
       "<table border=\"1\" class=\"dataframe\">\n",
       "  <thead>\n",
       "    <tr style=\"text-align: right;\">\n",
       "      <th></th>\n",
       "      <th>title</th>\n",
       "      <th>text</th>\n",
       "      <th>subject</th>\n",
       "      <th>date</th>\n",
       "      <th>day_of_week</th>\n",
       "      <th>month</th>\n",
       "      <th>year</th>\n",
       "      <th>title_length</th>\n",
       "      <th>text_length</th>\n",
       "      <th>label</th>\n",
       "    </tr>\n",
       "  </thead>\n",
       "  <tbody>\n",
       "    <tr>\n",
       "      <th>0</th>\n",
       "      <td>Donald Trump Sends Out Embarrassing New Year’...</td>\n",
       "      <td>Donald Trump just couldn t wish all Americans ...</td>\n",
       "      <td>News</td>\n",
       "      <td>2017-12-31</td>\n",
       "      <td>Sunday</td>\n",
       "      <td>12</td>\n",
       "      <td>2017</td>\n",
       "      <td>79</td>\n",
       "      <td>2893</td>\n",
       "      <td>0</td>\n",
       "    </tr>\n",
       "    <tr>\n",
       "      <th>1</th>\n",
       "      <td>Drunk Bragging Trump Staffer Started Russian ...</td>\n",
       "      <td>House Intelligence Committee Chairman Devin Nu...</td>\n",
       "      <td>News</td>\n",
       "      <td>2017-12-31</td>\n",
       "      <td>Sunday</td>\n",
       "      <td>12</td>\n",
       "      <td>2017</td>\n",
       "      <td>69</td>\n",
       "      <td>1898</td>\n",
       "      <td>0</td>\n",
       "    </tr>\n",
       "    <tr>\n",
       "      <th>2</th>\n",
       "      <td>Sheriff David Clarke Becomes An Internet Joke...</td>\n",
       "      <td>On Friday, it was revealed that former Milwauk...</td>\n",
       "      <td>News</td>\n",
       "      <td>2017-12-30</td>\n",
       "      <td>Saturday</td>\n",
       "      <td>12</td>\n",
       "      <td>2017</td>\n",
       "      <td>90</td>\n",
       "      <td>3597</td>\n",
       "      <td>0</td>\n",
       "    </tr>\n",
       "    <tr>\n",
       "      <th>3</th>\n",
       "      <td>Trump Is So Obsessed He Even Has Obama’s Name...</td>\n",
       "      <td>On Christmas day, Donald Trump announced that ...</td>\n",
       "      <td>News</td>\n",
       "      <td>2017-12-29</td>\n",
       "      <td>Friday</td>\n",
       "      <td>12</td>\n",
       "      <td>2017</td>\n",
       "      <td>78</td>\n",
       "      <td>2774</td>\n",
       "      <td>0</td>\n",
       "    </tr>\n",
       "    <tr>\n",
       "      <th>4</th>\n",
       "      <td>Pope Francis Just Called Out Donald Trump Dur...</td>\n",
       "      <td>Pope Francis used his annual Christmas Day mes...</td>\n",
       "      <td>News</td>\n",
       "      <td>2017-12-25</td>\n",
       "      <td>Monday</td>\n",
       "      <td>12</td>\n",
       "      <td>2017</td>\n",
       "      <td>70</td>\n",
       "      <td>2346</td>\n",
       "      <td>0</td>\n",
       "    </tr>\n",
       "  </tbody>\n",
       "</table>\n",
       "</div>"
      ],
      "text/plain": [
       "                                               title  \\\n",
       "0   Donald Trump Sends Out Embarrassing New Year’...   \n",
       "1   Drunk Bragging Trump Staffer Started Russian ...   \n",
       "2   Sheriff David Clarke Becomes An Internet Joke...   \n",
       "3   Trump Is So Obsessed He Even Has Obama’s Name...   \n",
       "4   Pope Francis Just Called Out Donald Trump Dur...   \n",
       "\n",
       "                                                text subject        date  \\\n",
       "0  Donald Trump just couldn t wish all Americans ...    News  2017-12-31   \n",
       "1  House Intelligence Committee Chairman Devin Nu...    News  2017-12-31   \n",
       "2  On Friday, it was revealed that former Milwauk...    News  2017-12-30   \n",
       "3  On Christmas day, Donald Trump announced that ...    News  2017-12-29   \n",
       "4  Pope Francis used his annual Christmas Day mes...    News  2017-12-25   \n",
       "\n",
       "  day_of_week  month  year  title_length  text_length  label  \n",
       "0      Sunday     12  2017            79         2893      0  \n",
       "1      Sunday     12  2017            69         1898      0  \n",
       "2    Saturday     12  2017            90         3597      0  \n",
       "3      Friday     12  2017            78         2774      0  \n",
       "4      Monday     12  2017            70         2346      0  "
      ]
     },
     "execution_count": 3,
     "metadata": {},
     "output_type": "execute_result"
    }
   ],
   "source": [
    "All2.head()"
   ]
  },
  {
   "cell_type": "markdown",
   "metadata": {},
   "source": [
    "### Basic Stats and Distributions\n",
    "#### Whole Data:"
   ]
  },
  {
   "cell_type": "code",
   "execution_count": 14,
   "metadata": {},
   "outputs": [
    {
     "data": {
      "text/html": [
       "<div>\n",
       "<style scoped>\n",
       "    .dataframe tbody tr th:only-of-type {\n",
       "        vertical-align: middle;\n",
       "    }\n",
       "\n",
       "    .dataframe tbody tr th {\n",
       "        vertical-align: top;\n",
       "    }\n",
       "\n",
       "    .dataframe thead th {\n",
       "        text-align: right;\n",
       "    }\n",
       "</style>\n",
       "<table border=\"1\" class=\"dataframe\">\n",
       "  <thead>\n",
       "    <tr style=\"text-align: right;\">\n",
       "      <th></th>\n",
       "      <th>month</th>\n",
       "      <th>year</th>\n",
       "      <th>title_length</th>\n",
       "      <th>text_length</th>\n",
       "      <th>label</th>\n",
       "    </tr>\n",
       "  </thead>\n",
       "  <tbody>\n",
       "    <tr>\n",
       "      <th>count</th>\n",
       "      <td>38137.000000</td>\n",
       "      <td>38137.000000</td>\n",
       "      <td>38137.000000</td>\n",
       "      <td>38137.000000</td>\n",
       "      <td>38137.000000</td>\n",
       "    </tr>\n",
       "    <tr>\n",
       "      <th>mean</th>\n",
       "      <td>7.276556</td>\n",
       "      <td>2016.556258</td>\n",
       "      <td>76.717518</td>\n",
       "      <td>2459.019246</td>\n",
       "      <td>0.545927</td>\n",
       "    </tr>\n",
       "    <tr>\n",
       "      <th>std</th>\n",
       "      <td>3.520960</td>\n",
       "      <td>0.575794</td>\n",
       "      <td>22.186784</td>\n",
       "      <td>1928.132006</td>\n",
       "      <td>0.497893</td>\n",
       "    </tr>\n",
       "    <tr>\n",
       "      <th>min</th>\n",
       "      <td>1.000000</td>\n",
       "      <td>2015.000000</td>\n",
       "      <td>15.000000</td>\n",
       "      <td>46.000000</td>\n",
       "      <td>0.000000</td>\n",
       "    </tr>\n",
       "    <tr>\n",
       "      <th>25%</th>\n",
       "      <td>4.000000</td>\n",
       "      <td>2016.000000</td>\n",
       "      <td>62.000000</td>\n",
       "      <td>1335.000000</td>\n",
       "      <td>0.000000</td>\n",
       "    </tr>\n",
       "    <tr>\n",
       "      <th>50%</th>\n",
       "      <td>8.000000</td>\n",
       "      <td>2017.000000</td>\n",
       "      <td>71.000000</td>\n",
       "      <td>2231.000000</td>\n",
       "      <td>1.000000</td>\n",
       "    </tr>\n",
       "    <tr>\n",
       "      <th>75%</th>\n",
       "      <td>10.000000</td>\n",
       "      <td>2017.000000</td>\n",
       "      <td>87.000000</td>\n",
       "      <td>3092.000000</td>\n",
       "      <td>1.000000</td>\n",
       "    </tr>\n",
       "    <tr>\n",
       "      <th>max</th>\n",
       "      <td>12.000000</td>\n",
       "      <td>2018.000000</td>\n",
       "      <td>286.000000</td>\n",
       "      <td>51794.000000</td>\n",
       "      <td>1.000000</td>\n",
       "    </tr>\n",
       "  </tbody>\n",
       "</table>\n",
       "</div>"
      ],
      "text/plain": [
       "              month          year  title_length   text_length         label\n",
       "count  38137.000000  38137.000000  38137.000000  38137.000000  38137.000000\n",
       "mean       7.276556   2016.556258     76.717518   2459.019246      0.545927\n",
       "std        3.520960      0.575794     22.186784   1928.132006      0.497893\n",
       "min        1.000000   2015.000000     15.000000     46.000000      0.000000\n",
       "25%        4.000000   2016.000000     62.000000   1335.000000      0.000000\n",
       "50%        8.000000   2017.000000     71.000000   2231.000000      1.000000\n",
       "75%       10.000000   2017.000000     87.000000   3092.000000      1.000000\n",
       "max       12.000000   2018.000000    286.000000  51794.000000      1.000000"
      ]
     },
     "execution_count": 14,
     "metadata": {},
     "output_type": "execute_result"
    }
   ],
   "source": [
    "All2.describe() # basic stats"
   ]
  },
  {
   "cell_type": "code",
   "execution_count": 4,
   "metadata": {},
   "outputs": [
    {
     "data": {
      "image/png": "[encoded data removed]",
      "text/plain": [
       "<Figure size 432x288 with 1 Axes>"
      ]
     },
     "metadata": {
      "needs_background": "light"
     },
     "output_type": "display_data"
    }
   ],
   "source": [
    "# Overall distribution of dataset:\n",
    "_ = plt.hist(All2.title_length, bins=50)\n",
    "_ = plt.xlabel('Title_Length')\n",
    "_ = plt.ylabel('Frequency')\n",
    "_ = plt.title('Distribution of Title_Length - Whole Dataset')\n",
    "_ = plt.axvline(76.7, color='r')   # mean of data"
   ]
  },
  {
   "cell_type": "markdown",
   "metadata": {},
   "source": [
    "#### Correlation Matrix"
   ]
  },
  {
   "cell_type": "code",
   "execution_count": 5,
   "metadata": {},
   "outputs": [
    {
     "data": {
      "image/png": "[encoded data removed]",
      "text/plain": [
       "<Figure size 432x288 with 2 Axes>"
      ]
     },
     "metadata": {
      "needs_background": "light"
     },
     "output_type": "display_data"
    }
   ],
   "source": [
    "sns.heatmap(All2.corr(), annot=True)\n",
    "plt.title(\"Correlation matrix: Whole Dataset\")\n",
    "plt.show();"
   ]
  },
  {
   "cell_type": "markdown",
   "metadata": {},
   "source": [
    "#### Fake data:"
   ]
  },
  {
   "cell_type": "code",
   "execution_count": 65,
   "metadata": {},
   "outputs": [
    {
     "data": {
      "text/html": [
       "<div>\n",
       "<style scoped>\n",
       "    .dataframe tbody tr th:only-of-type {\n",
       "        vertical-align: middle;\n",
       "    }\n",
       "\n",
       "    .dataframe tbody tr th {\n",
       "        vertical-align: top;\n",
       "    }\n",
       "\n",
       "    .dataframe thead th {\n",
       "        text-align: right;\n",
       "    }\n",
       "</style>\n",
       "<table border=\"1\" class=\"dataframe\">\n",
       "  <thead>\n",
       "    <tr style=\"text-align: right;\">\n",
       "      <th></th>\n",
       "      <th>month</th>\n",
       "      <th>year</th>\n",
       "      <th>title_length</th>\n",
       "      <th>text_length</th>\n",
       "      <th>label</th>\n",
       "    </tr>\n",
       "  </thead>\n",
       "  <tbody>\n",
       "    <tr>\n",
       "      <th>count</th>\n",
       "      <td>17317.000000</td>\n",
       "      <td>17317.000000</td>\n",
       "      <td>17317.000000</td>\n",
       "      <td>17317.000000</td>\n",
       "      <td>17317.0</td>\n",
       "    </tr>\n",
       "    <tr>\n",
       "      <th>mean</th>\n",
       "      <td>6.167292</td>\n",
       "      <td>2016.291217</td>\n",
       "      <td>91.198533</td>\n",
       "      <td>2568.260438</td>\n",
       "      <td>0.0</td>\n",
       "    </tr>\n",
       "    <tr>\n",
       "      <th>std</th>\n",
       "      <td>3.394028</td>\n",
       "      <td>0.626861</td>\n",
       "      <td>24.482290</td>\n",
       "      <td>2196.687580</td>\n",
       "      <td>0.0</td>\n",
       "    </tr>\n",
       "    <tr>\n",
       "      <th>min</th>\n",
       "      <td>1.000000</td>\n",
       "      <td>2015.000000</td>\n",
       "      <td>15.000000</td>\n",
       "      <td>46.000000</td>\n",
       "      <td>0.0</td>\n",
       "    </tr>\n",
       "    <tr>\n",
       "      <th>25%</th>\n",
       "      <td>3.000000</td>\n",
       "      <td>2016.000000</td>\n",
       "      <td>77.000000</td>\n",
       "      <td>1673.000000</td>\n",
       "      <td>0.0</td>\n",
       "    </tr>\n",
       "    <tr>\n",
       "      <th>50%</th>\n",
       "      <td>6.000000</td>\n",
       "      <td>2016.000000</td>\n",
       "      <td>88.000000</td>\n",
       "      <td>2242.000000</td>\n",
       "      <td>0.0</td>\n",
       "    </tr>\n",
       "    <tr>\n",
       "      <th>75%</th>\n",
       "      <td>9.000000</td>\n",
       "      <td>2017.000000</td>\n",
       "      <td>100.000000</td>\n",
       "      <td>3015.000000</td>\n",
       "      <td>0.0</td>\n",
       "    </tr>\n",
       "    <tr>\n",
       "      <th>max</th>\n",
       "      <td>12.000000</td>\n",
       "      <td>2018.000000</td>\n",
       "      <td>286.000000</td>\n",
       "      <td>51794.000000</td>\n",
       "      <td>0.0</td>\n",
       "    </tr>\n",
       "  </tbody>\n",
       "</table>\n",
       "</div>"
      ],
      "text/plain": [
       "              month          year  title_length   text_length    label\n",
       "count  17317.000000  17317.000000  17317.000000  17317.000000  17317.0\n",
       "mean       6.167292   2016.291217     91.198533   2568.260438      0.0\n",
       "std        3.394028      0.626861     24.482290   2196.687580      0.0\n",
       "min        1.000000   2015.000000     15.000000     46.000000      0.0\n",
       "25%        3.000000   2016.000000     77.000000   1673.000000      0.0\n",
       "50%        6.000000   2016.000000     88.000000   2242.000000      0.0\n",
       "75%        9.000000   2017.000000    100.000000   3015.000000      0.0\n",
       "max       12.000000   2018.000000    286.000000  51794.000000      0.0"
      ]
     },
     "execution_count": 65,
     "metadata": {},
     "output_type": "execute_result"
    }
   ],
   "source": [
    "All2_fake.describe()"
   ]
  },
  {
   "cell_type": "code",
   "execution_count": 7,
   "metadata": {},
   "outputs": [
    {
     "data": {
      "text/plain": [
       "label  day_of_week\n",
       "0      Wednesday      2646\n",
       "       Thursday       2625\n",
       "       Friday         2568\n",
       "       Tuesday        2562\n",
       "       Monday         2441\n",
       "       Sunday         2289\n",
       "       Saturday       2186\n",
       "Name: day_of_week, dtype: int64"
      ]
     },
     "execution_count": 7,
     "metadata": {},
     "output_type": "execute_result"
    }
   ],
   "source": [
    "All2_fake = All2[All2['label'] == 0]\n",
    "All2_fake.groupby('label')['day_of_week'].value_counts()"
   ]
  },
  {
   "cell_type": "code",
   "execution_count": 8,
   "metadata": {},
   "outputs": [
    {
     "data": {
      "text/plain": [
       "(17317,)"
      ]
     },
     "execution_count": 8,
     "metadata": {},
     "output_type": "execute_result"
    }
   ],
   "source": [
    "All2_title_len_fake = All2_fake['title_length']\n",
    "All2_title_len_fake.shape"
   ]
  },
  {
   "cell_type": "markdown",
   "metadata": {},
   "source": [
    "#### Real data"
   ]
  },
  {
   "cell_type": "code",
   "execution_count": 9,
   "metadata": {},
   "outputs": [
    {
     "data": {
      "text/plain": [
       "label  day_of_week\n",
       "1      Wednesday      4039\n",
       "       Thursday       3963\n",
       "       Tuesday        3675\n",
       "       Friday         3588\n",
       "       Monday         2998\n",
       "       Sunday         1384\n",
       "       Saturday       1173\n",
       "Name: day_of_week, dtype: int64"
      ]
     },
     "execution_count": 9,
     "metadata": {},
     "output_type": "execute_result"
    }
   ],
   "source": [
    "All2_real = All2[All2['label'] == 1]\n",
    "All2_real.groupby('label')['day_of_week'].value_counts()"
   ]
  },
  {
   "cell_type": "code",
   "execution_count": 10,
   "metadata": {},
   "outputs": [
    {
     "data": {
      "text/html": [
       "<div>\n",
       "<style scoped>\n",
       "    .dataframe tbody tr th:only-of-type {\n",
       "        vertical-align: middle;\n",
       "    }\n",
       "\n",
       "    .dataframe tbody tr th {\n",
       "        vertical-align: top;\n",
       "    }\n",
       "\n",
       "    .dataframe thead th {\n",
       "        text-align: right;\n",
       "    }\n",
       "</style>\n",
       "<table border=\"1\" class=\"dataframe\">\n",
       "  <thead>\n",
       "    <tr style=\"text-align: right;\">\n",
       "      <th></th>\n",
       "      <th>month</th>\n",
       "      <th>year</th>\n",
       "      <th>title_length</th>\n",
       "      <th>text_length</th>\n",
       "      <th>label</th>\n",
       "    </tr>\n",
       "  </thead>\n",
       "  <tbody>\n",
       "    <tr>\n",
       "      <th>count</th>\n",
       "      <td>20820.000000</td>\n",
       "      <td>20820.000000</td>\n",
       "      <td>20820.000000</td>\n",
       "      <td>20820.000000</td>\n",
       "      <td>20820.0</td>\n",
       "    </tr>\n",
       "    <tr>\n",
       "      <th>mean</th>\n",
       "      <td>8.199183</td>\n",
       "      <td>2016.776705</td>\n",
       "      <td>64.672959</td>\n",
       "      <td>2368.158069</td>\n",
       "      <td>1.0</td>\n",
       "    </tr>\n",
       "    <tr>\n",
       "      <th>std</th>\n",
       "      <td>3.354555</td>\n",
       "      <td>0.416464</td>\n",
       "      <td>9.147090</td>\n",
       "      <td>1666.833682</td>\n",
       "      <td>0.0</td>\n",
       "    </tr>\n",
       "    <tr>\n",
       "      <th>min</th>\n",
       "      <td>1.000000</td>\n",
       "      <td>2016.000000</td>\n",
       "      <td>26.000000</td>\n",
       "      <td>152.000000</td>\n",
       "      <td>1.0</td>\n",
       "    </tr>\n",
       "    <tr>\n",
       "      <th>25%</th>\n",
       "      <td>6.000000</td>\n",
       "      <td>2017.000000</td>\n",
       "      <td>59.000000</td>\n",
       "      <td>914.000000</td>\n",
       "      <td>1.0</td>\n",
       "    </tr>\n",
       "    <tr>\n",
       "      <th>50%</th>\n",
       "      <td>9.000000</td>\n",
       "      <td>2017.000000</td>\n",
       "      <td>64.000000</td>\n",
       "      <td>2214.000000</td>\n",
       "      <td>1.0</td>\n",
       "    </tr>\n",
       "    <tr>\n",
       "      <th>75%</th>\n",
       "      <td>11.000000</td>\n",
       "      <td>2017.000000</td>\n",
       "      <td>70.000000</td>\n",
       "      <td>3204.250000</td>\n",
       "      <td>1.0</td>\n",
       "    </tr>\n",
       "    <tr>\n",
       "      <th>max</th>\n",
       "      <td>12.000000</td>\n",
       "      <td>2017.000000</td>\n",
       "      <td>133.000000</td>\n",
       "      <td>29781.000000</td>\n",
       "      <td>1.0</td>\n",
       "    </tr>\n",
       "  </tbody>\n",
       "</table>\n",
       "</div>"
      ],
      "text/plain": [
       "              month          year  title_length   text_length    label\n",
       "count  20820.000000  20820.000000  20820.000000  20820.000000  20820.0\n",
       "mean       8.199183   2016.776705     64.672959   2368.158069      1.0\n",
       "std        3.354555      0.416464      9.147090   1666.833682      0.0\n",
       "min        1.000000   2016.000000     26.000000    152.000000      1.0\n",
       "25%        6.000000   2017.000000     59.000000    914.000000      1.0\n",
       "50%        9.000000   2017.000000     64.000000   2214.000000      1.0\n",
       "75%       11.000000   2017.000000     70.000000   3204.250000      1.0\n",
       "max       12.000000   2017.000000    133.000000  29781.000000      1.0"
      ]
     },
     "execution_count": 10,
     "metadata": {},
     "output_type": "execute_result"
    }
   ],
   "source": [
    "All2_real.describe()"
   ]
  },
  {
   "cell_type": "code",
   "execution_count": 11,
   "metadata": {},
   "outputs": [
    {
     "data": {
      "text/plain": [
       "(20820,)"
      ]
     },
     "execution_count": 11,
     "metadata": {},
     "output_type": "execute_result"
    }
   ],
   "source": [
    "# Real data has more rows!\n",
    "All2_title_len_real = All2_real['title_length']\n",
    "All2_title_len_real.shape"
   ]
  },
  {
   "cell_type": "code",
   "execution_count": 12,
   "metadata": {},
   "outputs": [
    {
     "data": {
      "image/png": "[encoded data removed]",
      "text/plain": [
       "<Figure size 432x288 with 1 Axes>"
      ]
     },
     "metadata": {
      "needs_background": "light"
     },
     "output_type": "display_data"
    }
   ],
   "source": [
    "# Plot title_length counts\n",
    "\n",
    "plt.hist(All2_title_len_fake, bins=50, alpha=0.5, label='Fake')\n",
    "plt.hist(All2_title_len_real, bins=50, alpha=0.5, label='Real')\n",
    "plt.title('Title_length Histograms')\n",
    "plt.xlim(0, 250)\n",
    "plt.xlabel('title_length')\n",
    "plt.ylabel('Frequency')\n",
    "plt.axvline(76.7, color='r')                    # mean of whole dataset\n",
    "plt.axvline(91.19, color='b', linestyle='--')   # mean of fake data\n",
    "plt.axvline(64.67, color='m', linestyle='--')   # mean of real data\n",
    "plt.legend();"
   ]
  },
  {
   "cell_type": "code",
   "execution_count": 13,
   "metadata": {},
   "outputs": [
    {
     "data": {
      "image/png": "[encoded data removed]",
      "text/plain": [
       "<Figure size 432x288 with 1 Axes>"
      ]
     },
     "metadata": {
      "needs_background": "light"
     },
     "output_type": "display_data"
    }
   ],
   "source": [
    "# Plot text_length counts\n",
    "f_text_len = All2[All2['label']==0]\n",
    "r_text_len = All2[All2['label']==1]\n",
    "\n",
    "plt.hist(f_text_len.text_length, bins=80, alpha=0.5, label='Fake')\n",
    "plt.hist(r_text_len.text_length, bins=80, alpha=0.5, label='Real')\n",
    "plt.title('Text_length Histograms')\n",
    "plt.xlim(0, 15000)\n",
    "plt.xlabel('title_length')\n",
    "plt.ylabel('Frequency')\n",
    "plt.legend();"
   ]
  },
  {
   "cell_type": "markdown",
   "metadata": {},
   "source": [
    "Randomly sample the Real data to be of the same shape as the Fake data"
   ]
  },
  {
   "cell_type": "code",
   "execution_count": 56,
   "metadata": {},
   "outputs": [
    {
     "data": {
      "text/plain": [
       "(17317,)"
      ]
     },
     "execution_count": 56,
     "metadata": {},
     "output_type": "execute_result"
    }
   ],
   "source": [
    "# Random sampling of Real to 17,317 rows (same as Fake data, for use in pearsonr function):\n",
    "All2_title_len_real_rand = All2_title_len_real.sample(n=17317, random_state=124)\n",
    "All2_title_len_real_rand.shape"
   ]
  },
  {
   "cell_type": "markdown",
   "metadata": {},
   "source": [
    "#### Independence Test:"
   ]
  },
  {
   "cell_type": "code",
   "execution_count": 34,
   "metadata": {},
   "outputs": [
    {
     "name": "stdout",
     "output_type": "stream",
     "text": [
      "pearsons_correlation_coeficient =  0.0063\n",
      "p_vale =  0.4045\n",
      "Independent samples\n"
     ]
    }
   ],
   "source": [
    "# Are the two samples independent?\n",
    "pears_coef, p = pearsonr(All2_title_len_fake, All2_title_len_real_rand)\n",
    "print('pearsons_correlation_coeficient = ', round(pears_coef, 4))\n",
    "print('p_vale = ',round(p, 4))\n",
    "if p > 0.05:\n",
    "    print('Independent samples')\n",
    "else:\n",
    "    print('Dependent samples')"
   ]
  },
  {
   "cell_type": "markdown",
   "metadata": {},
   "source": [
    "#### t-test:"
   ]
  },
  {
   "cell_type": "code",
   "execution_count": 55,
   "metadata": {},
   "outputs": [
    {
     "name": "stdout",
     "output_type": "stream",
     "text": [
      "t-statistic =  133.5505\n",
      "p =  0.0\n",
      "Probably different distributions\n"
     ]
    }
   ],
   "source": [
    "#Test whether the means of the two independent samples are significantly different:\n",
    "\n",
    "tstat, p = ttest_ind(All2_title_len_fake, All2_title_len_real_rand, equal_var=False)\n",
    "print('t-statistic = ', round(tstat, 4))\n",
    "print('p = ',round(p, 4))\n",
    "\n",
    "if p > 0.05:\n",
    "    print('Probably the same distribution')\n",
    "else:\n",
    "    print('Probably different distributions')"
   ]
  },
  {
   "cell_type": "markdown",
   "metadata": {},
   "source": [
    "Conclusion: the means of the Fake and Real news title_lengths are significantly different. This makes it possible to use this feature in distinguishing the two."
   ]
  },
  {
   "cell_type": "code",
   "execution_count": null,
   "metadata": {},
   "outputs": [],
   "source": []
  }
 ],
 "metadata": {
  "kernelspec": {
   "display_name": "Python 3",
   "language": "python",
   "name": "python3"
  },
  "language_info": {
   "codemirror_mode": {
    "name": "ipython",
    "version": 3
   },
   "file_extension": ".py",
   "mimetype": "text/x-python",
   "name": "python",
   "nbconvert_exporter": "python",
   "pygments_lexer": "ipython3",
   "version": "3.8.3"
  }
 },
 "nbformat": 4,
 "nbformat_minor": 4
}
